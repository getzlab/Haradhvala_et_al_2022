{
 "cells": [
  {
   "cell_type": "code",
   "execution_count": 1,
   "metadata": {},
   "outputs": [],
   "source": [
    "import scanpy as sc\n",
    "import matplotlib.pyplot as plt\n",
    "import seaborn as sns\n",
    "import numpy as np\n",
    "import pandas as pd\n",
    "from sklearn.neighbors import NearestNeighbors\n",
    "import matplotlib as mpl"
   ]
  },
  {
   "cell_type": "code",
   "execution_count": 2,
   "metadata": {},
   "outputs": [],
   "source": [
    "sc.set_figure_params(dpi=100)"
   ]
  },
  {
   "cell_type": "code",
   "execution_count": 3,
   "metadata": {},
   "outputs": [],
   "source": [
    "adata = sc.read(\"../data/CART_fulldataset_clustered.h5ad\")"
   ]
  },
  {
   "cell_type": "code",
   "execution_count": 4,
   "metadata": {},
   "outputs": [],
   "source": [
    "adata = adata[adata.obs['cell_type'].str.match('.*T$')]"
   ]
  },
  {
   "cell_type": "code",
   "execution_count": 10,
   "metadata": {},
   "outputs": [
    {
     "name": "stderr",
     "output_type": "stream",
     "text": [
      "/tmp/ipykernel_7419/2560969599.py:1: ImplicitModificationWarning: Trying to modify attribute `.obs` of view, initializing view as actual.\n",
      "  adata.obs['sample']=adata.obs['barcode'].astype(str) + '-' + adata.obs['timepoint'].astype(str)\n"
     ]
    }
   ],
   "source": [
    "adata.obs['sample']=adata.obs['barcode'].astype(str) + '-' + adata.obs['timepoint'].astype(str)"
   ]
  },
  {
   "cell_type": "code",
   "execution_count": 12,
   "metadata": {},
   "outputs": [],
   "source": [
    "# Require at least 50 T-cells to use sample\n",
    "min_cells= 50\n",
    "\n",
    "ncell = adata.obs['sample'].value_counts()\n",
    "\n",
    "samp_use = ncell.index[ncell>=min_cells]"
   ]
  },
  {
   "cell_type": "code",
   "execution_count": 13,
   "metadata": {},
   "outputs": [],
   "source": [
    "adata = adata[adata.obs['sample'].isin(samp_use)]"
   ]
  },
  {
   "cell_type": "code",
   "execution_count": 14,
   "metadata": {},
   "outputs": [
    {
     "name": "stderr",
     "output_type": "stream",
     "text": [
      "/tmp/ipykernel_7419/1241504568.py:1: ImplicitModificationWarning: Trying to modify attribute `.obs` of view, initializing view as actual.\n",
      "  adata.obs[['CD45RO','CD45RA']]=pd.read_csv('../data/CD45iso_estimates.csv',index_col=0)\n"
     ]
    }
   ],
   "source": [
    "adata.obs[['CD45RO','CD45RA']]=pd.read_csv('../data/CD45iso_estimates.csv',index_col=0)"
   ]
  },
  {
   "cell_type": "markdown",
   "metadata": {},
   "source": [
    "Naive: CCR7+CD45RA+\n",
    "\n",
    "CM: CCR7+CD45RO+\n",
    "\n",
    "EM: CCR7-CD45RO+\n",
    "\n",
    "TEMRA: CCR7-CD45RA+\n",
    "\n",
    "T-reg: FOXP3+\n"
   ]
  },
  {
   "cell_type": "code",
   "execution_count": 15,
   "metadata": {
    "scrolled": true
   },
   "outputs": [
    {
     "name": "stderr",
     "output_type": "stream",
     "text": [
      "/tmp/ipykernel_7419/436719975.py:21: ImplicitModificationWarning: Trying to modify attribute `.obs` of view, initializing view as actual.\n",
      "  adata_sub.obs['knn'+gene] = adata_sub.obs[gene].values[indices.reshape(-1)].reshape(-1,k).mean(axis=1)\n",
      "/tmp/ipykernel_7419/436719975.py:21: ImplicitModificationWarning: Trying to modify attribute `.obs` of view, initializing view as actual.\n",
      "  adata_sub.obs['knn'+gene] = adata_sub.obs[gene].values[indices.reshape(-1)].reshape(-1,k).mean(axis=1)\n",
      "/tmp/ipykernel_7419/436719975.py:21: ImplicitModificationWarning: Trying to modify attribute `.obs` of view, initializing view as actual.\n",
      "  adata_sub.obs['knn'+gene] = adata_sub.obs[gene].values[indices.reshape(-1)].reshape(-1,k).mean(axis=1)\n",
      "/tmp/ipykernel_7419/436719975.py:21: ImplicitModificationWarning: Trying to modify attribute `.obs` of view, initializing view as actual.\n",
      "  adata_sub.obs['knn'+gene] = adata_sub.obs[gene].values[indices.reshape(-1)].reshape(-1,k).mean(axis=1)\n",
      "/tmp/ipykernel_7419/436719975.py:21: ImplicitModificationWarning: Trying to modify attribute `.obs` of view, initializing view as actual.\n",
      "  adata_sub.obs['knn'+gene] = adata_sub.obs[gene].values[indices.reshape(-1)].reshape(-1,k).mean(axis=1)\n",
      "/tmp/ipykernel_7419/436719975.py:21: ImplicitModificationWarning: Trying to modify attribute `.obs` of view, initializing view as actual.\n",
      "  adata_sub.obs['knn'+gene] = adata_sub.obs[gene].values[indices.reshape(-1)].reshape(-1,k).mean(axis=1)\n",
      "/tmp/ipykernel_7419/436719975.py:21: ImplicitModificationWarning: Trying to modify attribute `.obs` of view, initializing view as actual.\n",
      "  adata_sub.obs['knn'+gene] = adata_sub.obs[gene].values[indices.reshape(-1)].reshape(-1,k).mean(axis=1)\n",
      "/tmp/ipykernel_7419/436719975.py:21: ImplicitModificationWarning: Trying to modify attribute `.obs` of view, initializing view as actual.\n",
      "  adata_sub.obs['knn'+gene] = adata_sub.obs[gene].values[indices.reshape(-1)].reshape(-1,k).mean(axis=1)\n",
      "/tmp/ipykernel_7419/436719975.py:21: ImplicitModificationWarning: Trying to modify attribute `.obs` of view, initializing view as actual.\n",
      "  adata_sub.obs['knn'+gene] = adata_sub.obs[gene].values[indices.reshape(-1)].reshape(-1,k).mean(axis=1)\n",
      "/tmp/ipykernel_7419/436719975.py:21: ImplicitModificationWarning: Trying to modify attribute `.obs` of view, initializing view as actual.\n",
      "  adata_sub.obs['knn'+gene] = adata_sub.obs[gene].values[indices.reshape(-1)].reshape(-1,k).mean(axis=1)\n",
      "/tmp/ipykernel_7419/436719975.py:21: ImplicitModificationWarning: Trying to modify attribute `.obs` of view, initializing view as actual.\n",
      "  adata_sub.obs['knn'+gene] = adata_sub.obs[gene].values[indices.reshape(-1)].reshape(-1,k).mean(axis=1)\n",
      "/tmp/ipykernel_7419/436719975.py:21: ImplicitModificationWarning: Trying to modify attribute `.obs` of view, initializing view as actual.\n",
      "  adata_sub.obs['knn'+gene] = adata_sub.obs[gene].values[indices.reshape(-1)].reshape(-1,k).mean(axis=1)\n",
      "/tmp/ipykernel_7419/436719975.py:21: ImplicitModificationWarning: Trying to modify attribute `.obs` of view, initializing view as actual.\n",
      "  adata_sub.obs['knn'+gene] = adata_sub.obs[gene].values[indices.reshape(-1)].reshape(-1,k).mean(axis=1)\n",
      "/tmp/ipykernel_7419/436719975.py:21: ImplicitModificationWarning: Trying to modify attribute `.obs` of view, initializing view as actual.\n",
      "  adata_sub.obs['knn'+gene] = adata_sub.obs[gene].values[indices.reshape(-1)].reshape(-1,k).mean(axis=1)\n",
      "/tmp/ipykernel_7419/436719975.py:21: ImplicitModificationWarning: Trying to modify attribute `.obs` of view, initializing view as actual.\n",
      "  adata_sub.obs['knn'+gene] = adata_sub.obs[gene].values[indices.reshape(-1)].reshape(-1,k).mean(axis=1)\n",
      "/tmp/ipykernel_7419/436719975.py:21: ImplicitModificationWarning: Trying to modify attribute `.obs` of view, initializing view as actual.\n",
      "  adata_sub.obs['knn'+gene] = adata_sub.obs[gene].values[indices.reshape(-1)].reshape(-1,k).mean(axis=1)\n",
      "/tmp/ipykernel_7419/436719975.py:21: ImplicitModificationWarning: Trying to modify attribute `.obs` of view, initializing view as actual.\n",
      "  adata_sub.obs['knn'+gene] = adata_sub.obs[gene].values[indices.reshape(-1)].reshape(-1,k).mean(axis=1)\n",
      "/tmp/ipykernel_7419/436719975.py:21: ImplicitModificationWarning: Trying to modify attribute `.obs` of view, initializing view as actual.\n",
      "  adata_sub.obs['knn'+gene] = adata_sub.obs[gene].values[indices.reshape(-1)].reshape(-1,k).mean(axis=1)\n",
      "/tmp/ipykernel_7419/436719975.py:21: ImplicitModificationWarning: Trying to modify attribute `.obs` of view, initializing view as actual.\n",
      "  adata_sub.obs['knn'+gene] = adata_sub.obs[gene].values[indices.reshape(-1)].reshape(-1,k).mean(axis=1)\n",
      "/tmp/ipykernel_7419/436719975.py:21: ImplicitModificationWarning: Trying to modify attribute `.obs` of view, initializing view as actual.\n",
      "  adata_sub.obs['knn'+gene] = adata_sub.obs[gene].values[indices.reshape(-1)].reshape(-1,k).mean(axis=1)\n",
      "/tmp/ipykernel_7419/436719975.py:21: ImplicitModificationWarning: Trying to modify attribute `.obs` of view, initializing view as actual.\n",
      "  adata_sub.obs['knn'+gene] = adata_sub.obs[gene].values[indices.reshape(-1)].reshape(-1,k).mean(axis=1)\n",
      "/tmp/ipykernel_7419/436719975.py:21: ImplicitModificationWarning: Trying to modify attribute `.obs` of view, initializing view as actual.\n",
      "  adata_sub.obs['knn'+gene] = adata_sub.obs[gene].values[indices.reshape(-1)].reshape(-1,k).mean(axis=1)\n",
      "/tmp/ipykernel_7419/436719975.py:21: ImplicitModificationWarning: Trying to modify attribute `.obs` of view, initializing view as actual.\n",
      "  adata_sub.obs['knn'+gene] = adata_sub.obs[gene].values[indices.reshape(-1)].reshape(-1,k).mean(axis=1)\n",
      "/tmp/ipykernel_7419/436719975.py:21: ImplicitModificationWarning: Trying to modify attribute `.obs` of view, initializing view as actual.\n",
      "  adata_sub.obs['knn'+gene] = adata_sub.obs[gene].values[indices.reshape(-1)].reshape(-1,k).mean(axis=1)\n",
      "/tmp/ipykernel_7419/436719975.py:21: ImplicitModificationWarning: Trying to modify attribute `.obs` of view, initializing view as actual.\n",
      "  adata_sub.obs['knn'+gene] = adata_sub.obs[gene].values[indices.reshape(-1)].reshape(-1,k).mean(axis=1)\n",
      "/tmp/ipykernel_7419/436719975.py:21: ImplicitModificationWarning: Trying to modify attribute `.obs` of view, initializing view as actual.\n",
      "  adata_sub.obs['knn'+gene] = adata_sub.obs[gene].values[indices.reshape(-1)].reshape(-1,k).mean(axis=1)\n",
      "/tmp/ipykernel_7419/436719975.py:21: ImplicitModificationWarning: Trying to modify attribute `.obs` of view, initializing view as actual.\n",
      "  adata_sub.obs['knn'+gene] = adata_sub.obs[gene].values[indices.reshape(-1)].reshape(-1,k).mean(axis=1)\n",
      "/tmp/ipykernel_7419/436719975.py:21: ImplicitModificationWarning: Trying to modify attribute `.obs` of view, initializing view as actual.\n",
      "  adata_sub.obs['knn'+gene] = adata_sub.obs[gene].values[indices.reshape(-1)].reshape(-1,k).mean(axis=1)\n",
      "/tmp/ipykernel_7419/436719975.py:21: ImplicitModificationWarning: Trying to modify attribute `.obs` of view, initializing view as actual.\n",
      "  adata_sub.obs['knn'+gene] = adata_sub.obs[gene].values[indices.reshape(-1)].reshape(-1,k).mean(axis=1)\n",
      "/tmp/ipykernel_7419/436719975.py:21: ImplicitModificationWarning: Trying to modify attribute `.obs` of view, initializing view as actual.\n",
      "  adata_sub.obs['knn'+gene] = adata_sub.obs[gene].values[indices.reshape(-1)].reshape(-1,k).mean(axis=1)\n",
      "/tmp/ipykernel_7419/436719975.py:21: ImplicitModificationWarning: Trying to modify attribute `.obs` of view, initializing view as actual.\n",
      "  adata_sub.obs['knn'+gene] = adata_sub.obs[gene].values[indices.reshape(-1)].reshape(-1,k).mean(axis=1)\n",
      "/tmp/ipykernel_7419/436719975.py:21: ImplicitModificationWarning: Trying to modify attribute `.obs` of view, initializing view as actual.\n",
      "  adata_sub.obs['knn'+gene] = adata_sub.obs[gene].values[indices.reshape(-1)].reshape(-1,k).mean(axis=1)\n",
      "/tmp/ipykernel_7419/436719975.py:21: ImplicitModificationWarning: Trying to modify attribute `.obs` of view, initializing view as actual.\n",
      "  adata_sub.obs['knn'+gene] = adata_sub.obs[gene].values[indices.reshape(-1)].reshape(-1,k).mean(axis=1)\n",
      "/tmp/ipykernel_7419/436719975.py:21: ImplicitModificationWarning: Trying to modify attribute `.obs` of view, initializing view as actual.\n",
      "  adata_sub.obs['knn'+gene] = adata_sub.obs[gene].values[indices.reshape(-1)].reshape(-1,k).mean(axis=1)\n"
     ]
    },
    {
     "name": "stderr",
     "output_type": "stream",
     "text": [
      "/tmp/ipykernel_7419/436719975.py:21: ImplicitModificationWarning: Trying to modify attribute `.obs` of view, initializing view as actual.\n",
      "  adata_sub.obs['knn'+gene] = adata_sub.obs[gene].values[indices.reshape(-1)].reshape(-1,k).mean(axis=1)\n",
      "/tmp/ipykernel_7419/436719975.py:21: ImplicitModificationWarning: Trying to modify attribute `.obs` of view, initializing view as actual.\n",
      "  adata_sub.obs['knn'+gene] = adata_sub.obs[gene].values[indices.reshape(-1)].reshape(-1,k).mean(axis=1)\n",
      "/tmp/ipykernel_7419/436719975.py:21: ImplicitModificationWarning: Trying to modify attribute `.obs` of view, initializing view as actual.\n",
      "  adata_sub.obs['knn'+gene] = adata_sub.obs[gene].values[indices.reshape(-1)].reshape(-1,k).mean(axis=1)\n",
      "/tmp/ipykernel_7419/436719975.py:21: ImplicitModificationWarning: Trying to modify attribute `.obs` of view, initializing view as actual.\n",
      "  adata_sub.obs['knn'+gene] = adata_sub.obs[gene].values[indices.reshape(-1)].reshape(-1,k).mean(axis=1)\n",
      "/tmp/ipykernel_7419/436719975.py:21: ImplicitModificationWarning: Trying to modify attribute `.obs` of view, initializing view as actual.\n",
      "  adata_sub.obs['knn'+gene] = adata_sub.obs[gene].values[indices.reshape(-1)].reshape(-1,k).mean(axis=1)\n",
      "/tmp/ipykernel_7419/436719975.py:21: ImplicitModificationWarning: Trying to modify attribute `.obs` of view, initializing view as actual.\n",
      "  adata_sub.obs['knn'+gene] = adata_sub.obs[gene].values[indices.reshape(-1)].reshape(-1,k).mean(axis=1)\n",
      "/tmp/ipykernel_7419/436719975.py:21: ImplicitModificationWarning: Trying to modify attribute `.obs` of view, initializing view as actual.\n",
      "  adata_sub.obs['knn'+gene] = adata_sub.obs[gene].values[indices.reshape(-1)].reshape(-1,k).mean(axis=1)\n",
      "/tmp/ipykernel_7419/436719975.py:21: ImplicitModificationWarning: Trying to modify attribute `.obs` of view, initializing view as actual.\n",
      "  adata_sub.obs['knn'+gene] = adata_sub.obs[gene].values[indices.reshape(-1)].reshape(-1,k).mean(axis=1)\n",
      "/tmp/ipykernel_7419/436719975.py:21: ImplicitModificationWarning: Trying to modify attribute `.obs` of view, initializing view as actual.\n",
      "  adata_sub.obs['knn'+gene] = adata_sub.obs[gene].values[indices.reshape(-1)].reshape(-1,k).mean(axis=1)\n",
      "/tmp/ipykernel_7419/436719975.py:21: ImplicitModificationWarning: Trying to modify attribute `.obs` of view, initializing view as actual.\n",
      "  adata_sub.obs['knn'+gene] = adata_sub.obs[gene].values[indices.reshape(-1)].reshape(-1,k).mean(axis=1)\n",
      "/tmp/ipykernel_7419/436719975.py:21: ImplicitModificationWarning: Trying to modify attribute `.obs` of view, initializing view as actual.\n",
      "  adata_sub.obs['knn'+gene] = adata_sub.obs[gene].values[indices.reshape(-1)].reshape(-1,k).mean(axis=1)\n",
      "/tmp/ipykernel_7419/436719975.py:21: ImplicitModificationWarning: Trying to modify attribute `.obs` of view, initializing view as actual.\n",
      "  adata_sub.obs['knn'+gene] = adata_sub.obs[gene].values[indices.reshape(-1)].reshape(-1,k).mean(axis=1)\n",
      "/tmp/ipykernel_7419/436719975.py:21: ImplicitModificationWarning: Trying to modify attribute `.obs` of view, initializing view as actual.\n",
      "  adata_sub.obs['knn'+gene] = adata_sub.obs[gene].values[indices.reshape(-1)].reshape(-1,k).mean(axis=1)\n",
      "/tmp/ipykernel_7419/436719975.py:21: ImplicitModificationWarning: Trying to modify attribute `.obs` of view, initializing view as actual.\n",
      "  adata_sub.obs['knn'+gene] = adata_sub.obs[gene].values[indices.reshape(-1)].reshape(-1,k).mean(axis=1)\n",
      "/tmp/ipykernel_7419/436719975.py:21: ImplicitModificationWarning: Trying to modify attribute `.obs` of view, initializing view as actual.\n",
      "  adata_sub.obs['knn'+gene] = adata_sub.obs[gene].values[indices.reshape(-1)].reshape(-1,k).mean(axis=1)\n",
      "/tmp/ipykernel_7419/436719975.py:21: ImplicitModificationWarning: Trying to modify attribute `.obs` of view, initializing view as actual.\n",
      "  adata_sub.obs['knn'+gene] = adata_sub.obs[gene].values[indices.reshape(-1)].reshape(-1,k).mean(axis=1)\n",
      "/tmp/ipykernel_7419/436719975.py:21: ImplicitModificationWarning: Trying to modify attribute `.obs` of view, initializing view as actual.\n",
      "  adata_sub.obs['knn'+gene] = adata_sub.obs[gene].values[indices.reshape(-1)].reshape(-1,k).mean(axis=1)\n",
      "/tmp/ipykernel_7419/436719975.py:21: ImplicitModificationWarning: Trying to modify attribute `.obs` of view, initializing view as actual.\n",
      "  adata_sub.obs['knn'+gene] = adata_sub.obs[gene].values[indices.reshape(-1)].reshape(-1,k).mean(axis=1)\n",
      "/tmp/ipykernel_7419/436719975.py:21: ImplicitModificationWarning: Trying to modify attribute `.obs` of view, initializing view as actual.\n",
      "  adata_sub.obs['knn'+gene] = adata_sub.obs[gene].values[indices.reshape(-1)].reshape(-1,k).mean(axis=1)\n",
      "/tmp/ipykernel_7419/436719975.py:21: ImplicitModificationWarning: Trying to modify attribute `.obs` of view, initializing view as actual.\n",
      "  adata_sub.obs['knn'+gene] = adata_sub.obs[gene].values[indices.reshape(-1)].reshape(-1,k).mean(axis=1)\n",
      "/tmp/ipykernel_7419/436719975.py:21: ImplicitModificationWarning: Trying to modify attribute `.obs` of view, initializing view as actual.\n",
      "  adata_sub.obs['knn'+gene] = adata_sub.obs[gene].values[indices.reshape(-1)].reshape(-1,k).mean(axis=1)\n",
      "/tmp/ipykernel_7419/436719975.py:21: ImplicitModificationWarning: Trying to modify attribute `.obs` of view, initializing view as actual.\n",
      "  adata_sub.obs['knn'+gene] = adata_sub.obs[gene].values[indices.reshape(-1)].reshape(-1,k).mean(axis=1)\n",
      "/tmp/ipykernel_7419/436719975.py:21: ImplicitModificationWarning: Trying to modify attribute `.obs` of view, initializing view as actual.\n",
      "  adata_sub.obs['knn'+gene] = adata_sub.obs[gene].values[indices.reshape(-1)].reshape(-1,k).mean(axis=1)\n",
      "/tmp/ipykernel_7419/436719975.py:21: ImplicitModificationWarning: Trying to modify attribute `.obs` of view, initializing view as actual.\n",
      "  adata_sub.obs['knn'+gene] = adata_sub.obs[gene].values[indices.reshape(-1)].reshape(-1,k).mean(axis=1)\n",
      "/tmp/ipykernel_7419/436719975.py:21: ImplicitModificationWarning: Trying to modify attribute `.obs` of view, initializing view as actual.\n",
      "  adata_sub.obs['knn'+gene] = adata_sub.obs[gene].values[indices.reshape(-1)].reshape(-1,k).mean(axis=1)\n",
      "/tmp/ipykernel_7419/436719975.py:21: ImplicitModificationWarning: Trying to modify attribute `.obs` of view, initializing view as actual.\n",
      "  adata_sub.obs['knn'+gene] = adata_sub.obs[gene].values[indices.reshape(-1)].reshape(-1,k).mean(axis=1)\n",
      "/tmp/ipykernel_7419/436719975.py:21: ImplicitModificationWarning: Trying to modify attribute `.obs` of view, initializing view as actual.\n",
      "  adata_sub.obs['knn'+gene] = adata_sub.obs[gene].values[indices.reshape(-1)].reshape(-1,k).mean(axis=1)\n",
      "/tmp/ipykernel_7419/436719975.py:21: ImplicitModificationWarning: Trying to modify attribute `.obs` of view, initializing view as actual.\n",
      "  adata_sub.obs['knn'+gene] = adata_sub.obs[gene].values[indices.reshape(-1)].reshape(-1,k).mean(axis=1)\n",
      "/tmp/ipykernel_7419/436719975.py:21: ImplicitModificationWarning: Trying to modify attribute `.obs` of view, initializing view as actual.\n",
      "  adata_sub.obs['knn'+gene] = adata_sub.obs[gene].values[indices.reshape(-1)].reshape(-1,k).mean(axis=1)\n",
      "/tmp/ipykernel_7419/436719975.py:21: ImplicitModificationWarning: Trying to modify attribute `.obs` of view, initializing view as actual.\n",
      "  adata_sub.obs['knn'+gene] = adata_sub.obs[gene].values[indices.reshape(-1)].reshape(-1,k).mean(axis=1)\n",
      "/tmp/ipykernel_7419/436719975.py:21: ImplicitModificationWarning: Trying to modify attribute `.obs` of view, initializing view as actual.\n",
      "  adata_sub.obs['knn'+gene] = adata_sub.obs[gene].values[indices.reshape(-1)].reshape(-1,k).mean(axis=1)\n",
      "/tmp/ipykernel_7419/436719975.py:21: ImplicitModificationWarning: Trying to modify attribute `.obs` of view, initializing view as actual.\n",
      "  adata_sub.obs['knn'+gene] = adata_sub.obs[gene].values[indices.reshape(-1)].reshape(-1,k).mean(axis=1)\n",
      "/tmp/ipykernel_7419/436719975.py:21: ImplicitModificationWarning: Trying to modify attribute `.obs` of view, initializing view as actual.\n",
      "  adata_sub.obs['knn'+gene] = adata_sub.obs[gene].values[indices.reshape(-1)].reshape(-1,k).mean(axis=1)\n",
      "/tmp/ipykernel_7419/436719975.py:21: ImplicitModificationWarning: Trying to modify attribute `.obs` of view, initializing view as actual.\n",
      "  adata_sub.obs['knn'+gene] = adata_sub.obs[gene].values[indices.reshape(-1)].reshape(-1,k).mean(axis=1)\n"
     ]
    },
    {
     "name": "stderr",
     "output_type": "stream",
     "text": [
      "/tmp/ipykernel_7419/436719975.py:21: ImplicitModificationWarning: Trying to modify attribute `.obs` of view, initializing view as actual.\n",
      "  adata_sub.obs['knn'+gene] = adata_sub.obs[gene].values[indices.reshape(-1)].reshape(-1,k).mean(axis=1)\n",
      "/tmp/ipykernel_7419/436719975.py:21: ImplicitModificationWarning: Trying to modify attribute `.obs` of view, initializing view as actual.\n",
      "  adata_sub.obs['knn'+gene] = adata_sub.obs[gene].values[indices.reshape(-1)].reshape(-1,k).mean(axis=1)\n",
      "/tmp/ipykernel_7419/436719975.py:21: ImplicitModificationWarning: Trying to modify attribute `.obs` of view, initializing view as actual.\n",
      "  adata_sub.obs['knn'+gene] = adata_sub.obs[gene].values[indices.reshape(-1)].reshape(-1,k).mean(axis=1)\n",
      "/tmp/ipykernel_7419/436719975.py:21: ImplicitModificationWarning: Trying to modify attribute `.obs` of view, initializing view as actual.\n",
      "  adata_sub.obs['knn'+gene] = adata_sub.obs[gene].values[indices.reshape(-1)].reshape(-1,k).mean(axis=1)\n",
      "/tmp/ipykernel_7419/436719975.py:21: ImplicitModificationWarning: Trying to modify attribute `.obs` of view, initializing view as actual.\n",
      "  adata_sub.obs['knn'+gene] = adata_sub.obs[gene].values[indices.reshape(-1)].reshape(-1,k).mean(axis=1)\n",
      "/tmp/ipykernel_7419/436719975.py:21: ImplicitModificationWarning: Trying to modify attribute `.obs` of view, initializing view as actual.\n",
      "  adata_sub.obs['knn'+gene] = adata_sub.obs[gene].values[indices.reshape(-1)].reshape(-1,k).mean(axis=1)\n",
      "/tmp/ipykernel_7419/436719975.py:21: ImplicitModificationWarning: Trying to modify attribute `.obs` of view, initializing view as actual.\n",
      "  adata_sub.obs['knn'+gene] = adata_sub.obs[gene].values[indices.reshape(-1)].reshape(-1,k).mean(axis=1)\n",
      "/tmp/ipykernel_7419/436719975.py:21: ImplicitModificationWarning: Trying to modify attribute `.obs` of view, initializing view as actual.\n",
      "  adata_sub.obs['knn'+gene] = adata_sub.obs[gene].values[indices.reshape(-1)].reshape(-1,k).mean(axis=1)\n",
      "/tmp/ipykernel_7419/436719975.py:21: ImplicitModificationWarning: Trying to modify attribute `.obs` of view, initializing view as actual.\n",
      "  adata_sub.obs['knn'+gene] = adata_sub.obs[gene].values[indices.reshape(-1)].reshape(-1,k).mean(axis=1)\n",
      "/tmp/ipykernel_7419/436719975.py:21: ImplicitModificationWarning: Trying to modify attribute `.obs` of view, initializing view as actual.\n",
      "  adata_sub.obs['knn'+gene] = adata_sub.obs[gene].values[indices.reshape(-1)].reshape(-1,k).mean(axis=1)\n",
      "/tmp/ipykernel_7419/436719975.py:21: ImplicitModificationWarning: Trying to modify attribute `.obs` of view, initializing view as actual.\n",
      "  adata_sub.obs['knn'+gene] = adata_sub.obs[gene].values[indices.reshape(-1)].reshape(-1,k).mean(axis=1)\n",
      "/tmp/ipykernel_7419/436719975.py:21: ImplicitModificationWarning: Trying to modify attribute `.obs` of view, initializing view as actual.\n",
      "  adata_sub.obs['knn'+gene] = adata_sub.obs[gene].values[indices.reshape(-1)].reshape(-1,k).mean(axis=1)\n",
      "/tmp/ipykernel_7419/436719975.py:21: ImplicitModificationWarning: Trying to modify attribute `.obs` of view, initializing view as actual.\n",
      "  adata_sub.obs['knn'+gene] = adata_sub.obs[gene].values[indices.reshape(-1)].reshape(-1,k).mean(axis=1)\n",
      "/tmp/ipykernel_7419/436719975.py:21: ImplicitModificationWarning: Trying to modify attribute `.obs` of view, initializing view as actual.\n",
      "  adata_sub.obs['knn'+gene] = adata_sub.obs[gene].values[indices.reshape(-1)].reshape(-1,k).mean(axis=1)\n",
      "/tmp/ipykernel_7419/436719975.py:21: ImplicitModificationWarning: Trying to modify attribute `.obs` of view, initializing view as actual.\n",
      "  adata_sub.obs['knn'+gene] = adata_sub.obs[gene].values[indices.reshape(-1)].reshape(-1,k).mean(axis=1)\n",
      "/tmp/ipykernel_7419/436719975.py:21: ImplicitModificationWarning: Trying to modify attribute `.obs` of view, initializing view as actual.\n",
      "  adata_sub.obs['knn'+gene] = adata_sub.obs[gene].values[indices.reshape(-1)].reshape(-1,k).mean(axis=1)\n",
      "/tmp/ipykernel_7419/436719975.py:21: ImplicitModificationWarning: Trying to modify attribute `.obs` of view, initializing view as actual.\n",
      "  adata_sub.obs['knn'+gene] = adata_sub.obs[gene].values[indices.reshape(-1)].reshape(-1,k).mean(axis=1)\n",
      "/tmp/ipykernel_7419/436719975.py:21: ImplicitModificationWarning: Trying to modify attribute `.obs` of view, initializing view as actual.\n",
      "  adata_sub.obs['knn'+gene] = adata_sub.obs[gene].values[indices.reshape(-1)].reshape(-1,k).mean(axis=1)\n",
      "/tmp/ipykernel_7419/436719975.py:21: ImplicitModificationWarning: Trying to modify attribute `.obs` of view, initializing view as actual.\n",
      "  adata_sub.obs['knn'+gene] = adata_sub.obs[gene].values[indices.reshape(-1)].reshape(-1,k).mean(axis=1)\n",
      "/tmp/ipykernel_7419/436719975.py:21: ImplicitModificationWarning: Trying to modify attribute `.obs` of view, initializing view as actual.\n",
      "  adata_sub.obs['knn'+gene] = adata_sub.obs[gene].values[indices.reshape(-1)].reshape(-1,k).mean(axis=1)\n",
      "/tmp/ipykernel_7419/436719975.py:21: ImplicitModificationWarning: Trying to modify attribute `.obs` of view, initializing view as actual.\n",
      "  adata_sub.obs['knn'+gene] = adata_sub.obs[gene].values[indices.reshape(-1)].reshape(-1,k).mean(axis=1)\n",
      "/tmp/ipykernel_7419/436719975.py:21: ImplicitModificationWarning: Trying to modify attribute `.obs` of view, initializing view as actual.\n",
      "  adata_sub.obs['knn'+gene] = adata_sub.obs[gene].values[indices.reshape(-1)].reshape(-1,k).mean(axis=1)\n",
      "/tmp/ipykernel_7419/436719975.py:21: ImplicitModificationWarning: Trying to modify attribute `.obs` of view, initializing view as actual.\n",
      "  adata_sub.obs['knn'+gene] = adata_sub.obs[gene].values[indices.reshape(-1)].reshape(-1,k).mean(axis=1)\n",
      "/tmp/ipykernel_7419/436719975.py:21: ImplicitModificationWarning: Trying to modify attribute `.obs` of view, initializing view as actual.\n",
      "  adata_sub.obs['knn'+gene] = adata_sub.obs[gene].values[indices.reshape(-1)].reshape(-1,k).mean(axis=1)\n",
      "/tmp/ipykernel_7419/436719975.py:21: ImplicitModificationWarning: Trying to modify attribute `.obs` of view, initializing view as actual.\n",
      "  adata_sub.obs['knn'+gene] = adata_sub.obs[gene].values[indices.reshape(-1)].reshape(-1,k).mean(axis=1)\n",
      "/tmp/ipykernel_7419/436719975.py:21: ImplicitModificationWarning: Trying to modify attribute `.obs` of view, initializing view as actual.\n",
      "  adata_sub.obs['knn'+gene] = adata_sub.obs[gene].values[indices.reshape(-1)].reshape(-1,k).mean(axis=1)\n",
      "/tmp/ipykernel_7419/436719975.py:21: ImplicitModificationWarning: Trying to modify attribute `.obs` of view, initializing view as actual.\n",
      "  adata_sub.obs['knn'+gene] = adata_sub.obs[gene].values[indices.reshape(-1)].reshape(-1,k).mean(axis=1)\n",
      "/tmp/ipykernel_7419/436719975.py:21: ImplicitModificationWarning: Trying to modify attribute `.obs` of view, initializing view as actual.\n",
      "  adata_sub.obs['knn'+gene] = adata_sub.obs[gene].values[indices.reshape(-1)].reshape(-1,k).mean(axis=1)\n",
      "/tmp/ipykernel_7419/436719975.py:21: ImplicitModificationWarning: Trying to modify attribute `.obs` of view, initializing view as actual.\n",
      "  adata_sub.obs['knn'+gene] = adata_sub.obs[gene].values[indices.reshape(-1)].reshape(-1,k).mean(axis=1)\n",
      "/tmp/ipykernel_7419/436719975.py:21: ImplicitModificationWarning: Trying to modify attribute `.obs` of view, initializing view as actual.\n",
      "  adata_sub.obs['knn'+gene] = adata_sub.obs[gene].values[indices.reshape(-1)].reshape(-1,k).mean(axis=1)\n",
      "/tmp/ipykernel_7419/436719975.py:21: ImplicitModificationWarning: Trying to modify attribute `.obs` of view, initializing view as actual.\n",
      "  adata_sub.obs['knn'+gene] = adata_sub.obs[gene].values[indices.reshape(-1)].reshape(-1,k).mean(axis=1)\n",
      "/tmp/ipykernel_7419/436719975.py:21: ImplicitModificationWarning: Trying to modify attribute `.obs` of view, initializing view as actual.\n",
      "  adata_sub.obs['knn'+gene] = adata_sub.obs[gene].values[indices.reshape(-1)].reshape(-1,k).mean(axis=1)\n",
      "/tmp/ipykernel_7419/436719975.py:21: ImplicitModificationWarning: Trying to modify attribute `.obs` of view, initializing view as actual.\n",
      "  adata_sub.obs['knn'+gene] = adata_sub.obs[gene].values[indices.reshape(-1)].reshape(-1,k).mean(axis=1)\n"
     ]
    }
   ],
   "source": [
    "k=20\n",
    "\n",
    "markers = ['CD45RO','CD45RA','CCR7','FOXP3','CD4','CD8A','CD3D','Kymriah','Yescarta','NKG7','GZMK','GZMB','PRF1']\n",
    "\n",
    "\n",
    "for samp,g in adata.obs.groupby('sample'):\n",
    "    \n",
    "    if g.shape[0]<=50:\n",
    "        continue\n",
    "    \n",
    "    adata_sub = adata[g.index,:]\n",
    "    \n",
    "    npc=15\n",
    "    nbrs = NearestNeighbors(n_neighbors=k, algorithm='ball_tree').fit(adata_sub.obsm['X_pca'][:,0:npc])\n",
    "    distances, indices = nbrs.kneighbors(adata_sub.obsm['X_pca'][:,0:npc])\n",
    "\n",
    "    \n",
    "    \n",
    "    for gene in markers:\n",
    "        if gene in ['CD45RO','CD45RA']:\n",
    "            adata_sub.obs['knn'+gene] = adata_sub.obs[gene].values[indices.reshape(-1)].reshape(-1,k).mean(axis=1)\n",
    "        else:\n",
    "            adata_sub.obs['knn'+gene] = np.array(adata_sub.raw[:,gene].X[indices.reshape(-1)].\\\n",
    "                                             reshape(-1,k).mean(axis=1)).reshape(-1)\n",
    "        adata.obs.loc[g.index,'knn'+gene] = adata_sub.obs['knn'+gene]\n",
    "\n",
    "    "
   ]
  },
  {
   "cell_type": "code",
   "execution_count": 16,
   "metadata": {},
   "outputs": [
    {
     "data": {
      "image/png": "[encoded data removed]",
      "text/plain": [
       "<Figure size 400x400 with 1 Axes>"
      ]
     },
     "metadata": {
      "image/png": {
       "height": 352,
       "width": 403
      },
      "needs_background": "light"
     },
     "output_type": "display_data"
    }
   ],
   "source": [
    "plt.hist(adata.obs['knnCD3D'],50);"
   ]
  },
  {
   "cell_type": "code",
   "execution_count": null,
   "metadata": {},
   "outputs": [],
   "source": []
  },
  {
   "cell_type": "code",
   "execution_count": 17,
   "metadata": {},
   "outputs": [],
   "source": [
    "adata = adata[adata.obs['knnCD3D']>.75]"
   ]
  },
  {
   "cell_type": "markdown",
   "metadata": {},
   "source": [
    "## Subtype classification"
   ]
  },
  {
   "cell_type": "code",
   "execution_count": 18,
   "metadata": {},
   "outputs": [
    {
     "name": "stderr",
     "output_type": "stream",
     "text": [
      "/tmp/ipykernel_7419/2385221618.py:1: ImplicitModificationWarning: Trying to modify attribute `.obs` of view, initializing view as actual.\n",
      "  adata.obs['subtype'] = 'Unknown'\n"
     ]
    }
   ],
   "source": [
    "adata.obs['subtype'] = 'Unknown'\n",
    "cd8_idx = adata.obs['knnCD8A']>=.75\n",
    "cd4_idx = adata.obs['knnCD4']>=.25\n",
    "adata.obs.loc[cd8_idx&~cd4_idx,'subtype'] = 'CD8 T'\n",
    "adata.obs.loc[cd4_idx&~cd8_idx,'subtype'] = 'CD4 T'\n",
    "\n",
    "adata.obs['class'] = ''\n",
    "\n",
    "RA_idx = adata.obs['knnCD45RA']>=.5\n",
    "CCR7_idx = adata.obs['knnCCR7']>=.5\n",
    "cytotoxic_idx = adata.obs['knnNKG7']>=1\n",
    "treg_idx = adata.obs['knnFOXP3']>=.75\n",
    "\n",
    "adata.obs.loc[RA_idx,'class'] = 'EMRA'\n",
    "adata.obs.loc[RA_idx&CCR7_idx,'class'] = 'Naive'\n",
    "adata.obs.loc[~RA_idx&CCR7_idx,'class'] = 'CM'\n",
    "adata.obs.loc[~RA_idx&~CCR7_idx,'class'] = 'EM'\n",
    "\n",
    "# CD4-specific classifications\n",
    "adata.obs.loc[cd4_idx&treg_idx,'class'] = 'T-reg'\n",
    "adata.obs.loc[cd4_idx&cytotoxic_idx,'class'] = 'CD4+ CTL'\n"
   ]
  },
  {
   "cell_type": "code",
   "execution_count": 19,
   "metadata": {},
   "outputs": [],
   "source": [
    "adata.obs.to_csv('../data/ALLT_subtypes_annotated_obs.txt',sep='\\t')"
   ]
  },
  {
   "cell_type": "code",
   "execution_count": null,
   "metadata": {},
   "outputs": [],
   "source": []
  }
 ],
 "metadata": {
  "kernelspec": {
   "display_name": "scanpy1_8",
   "language": "python",
   "name": "scanpy1_8"
  },
  "language_info": {
   "codemirror_mode": {
    "name": "ipython",
    "version": 3
   },
   "file_extension": ".py",
   "mimetype": "text/x-python",
   "name": "python",
   "nbconvert_exporter": "python",
   "pygments_lexer": "ipython3",
   "version": "3.8.3"
  }
 },
 "nbformat": 4,
 "nbformat_minor": 4
}
